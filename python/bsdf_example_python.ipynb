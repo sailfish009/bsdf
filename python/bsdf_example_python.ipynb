{
 "cells": [
  {
   "cell_type": "markdown",
   "metadata": {},
   "source": [
    "# Example BSDF in Python"
   ]
  },
  {
   "cell_type": "code",
   "execution_count": 1,
   "metadata": {
    "collapsed": true
   },
   "outputs": [],
   "source": [
    "import os\n",
    "import bsdf\n",
    "filename = os.path.expanduser('~/foo.bsdf')"
   ]
  },
  {
   "cell_type": "markdown",
   "metadata": {},
   "source": [
    "## Simple use\n",
    "Here, we define some data, encode it, and decode back."
   ]
  },
  {
   "cell_type": "code",
   "execution_count": 2,
   "metadata": {},
   "outputs": [
    {
     "data": {
      "text/plain": [
       "b'BSDF\\x02\\x01l\\x05s\\x05helloh\\x03\\x00h\\x04\\x00vm\\x02\\x03fool\\x02h\\x01\\x00h\\x02\\x00\\x03barb\\x05\\x05\\x05\\x00\\x00\\x01\\x00xxxxx'"
      ]
     },
     "execution_count": 2,
     "metadata": {},
     "output_type": "execute_result"
    }
   ],
   "source": [
    "data = ['hello', 3, 4, None, {'foo': [1, 2], 'bar': b'xxxxx'}]\n",
    "bb = bsdf.encode(data)\n",
    "bb"
   ]
  },
  {
   "cell_type": "code",
   "execution_count": 3,
   "metadata": {},
   "outputs": [
    {
     "data": {
      "text/plain": [
       "['hello', 3, 4, None, {'bar': b'xxxxx', 'foo': [1, 2]}]"
      ]
     },
     "execution_count": 3,
     "metadata": {},
     "output_type": "execute_result"
    }
   ],
   "source": [
    "bsdf.decode(bb)"
   ]
  },
  {
   "cell_type": "markdown",
   "metadata": {},
   "source": [
    "The above encodes/decodes to/from bytes. We can also use file objects. `bsdf.save()` and `bsdf.load()` also support file names."
   ]
  },
  {
   "cell_type": "code",
   "execution_count": 4,
   "metadata": {},
   "outputs": [
    {
     "data": {
      "text/plain": [
       "['hello', 3, 4, None, {'bar': b'xxxxx', 'foo': [1, 2]}]"
      ]
     },
     "execution_count": 4,
     "metadata": {},
     "output_type": "execute_result"
    }
   ],
   "source": [
    "bsdf.save(filename, data)\n",
    "bsdf.load(filename)"
   ]
  },
  {
   "cell_type": "markdown",
   "metadata": {},
   "source": [
    "## Custom extensions\n",
    "Extensions are easy to write."
   ]
  },
  {
   "cell_type": "code",
   "execution_count": 5,
   "metadata": {},
   "outputs": [],
   "source": [
    "# For the sake of example, let's write an extension that encodes complex numbers.\n",
    "# (Spoiler: this is the actual code for the standard complex extention)\n",
    "class ComplexExtension(bsdf.Extension):\n",
    "\n",
    "    name = 'c'\n",
    "    cls = complex\n",
    "\n",
    "    def encode(self, s, v):\n",
    "        return (v.real, v.imag)\n",
    "\n",
    "    def decode(self, s, v):\n",
    "        return complex(v[0], v[1])\n",
    "    "
   ]
  },
  {
   "cell_type": "code",
   "execution_count": 6,
   "metadata": {},
   "outputs": [
    {
     "name": "stdout",
     "output_type": "stream",
     "text": [
      "b'BSDF\\x02\\x01L\\x01c\\x02d\\x00\\x00\\x00\\x00\\x00\\x00\\x08@d\\x00\\x00\\x00\\x00\\x00\\x00\\x10@'\n"
     ]
    },
    {
     "data": {
      "text/plain": [
       "(3+4j)"
      ]
     },
     "execution_count": 6,
     "metadata": {},
     "output_type": "execute_result"
    }
   ],
   "source": [
    "bb = bsdf.encode(3+4j, [ComplexExtension])\n",
    "print(bb)\n",
    "bsdf.decode(bb, [ComplexExtension])"
   ]
  },
  {
   "cell_type": "code",
   "execution_count": 7,
   "metadata": {
    "collapsed": true
   },
   "outputs": [],
   "source": [
    "# This would work too, because it is a standard extension\n",
    "# bsdf.decode(bb)\n",
    "# But this would not\n",
    "# bsdf.decode(bb, [])"
   ]
  },
  {
   "cell_type": "markdown",
   "metadata": {},
   "source": [
    "## Use of serializer class\n",
    "The serializer class is recommended when performance matters. It also defines what options and extensions to use; using the `s` will use compression by default and supports complex numbers. The serializer class has methods `save()`, `load()`, `encode()`, `decode()`, and methods to add/remove extensions. Note that `save()` and `load()` need file objects (not file names).\n"
   ]
  },
  {
   "cell_type": "code",
   "execution_count": 8,
   "metadata": {},
   "outputs": [
    {
     "data": {
      "text/plain": [
       "<bsdf.BsdfSerializer at 0x285e9372d68>"
      ]
     },
     "execution_count": 8,
     "metadata": {},
     "output_type": "execute_result"
    }
   ],
   "source": [
    "s = bsdf.BsdfSerializer([ComplexExtension], compression=1)\n",
    "s"
   ]
  },
  {
   "cell_type": "code",
   "execution_count": 9,
   "metadata": {},
   "outputs": [
    {
     "data": {
      "text/plain": [
       "54"
      ]
     },
     "execution_count": 9,
     "metadata": {},
     "output_type": "execute_result"
    }
   ],
   "source": [
    "len(s.encode(b'x'*1000))"
   ]
  },
  {
   "cell_type": "markdown",
   "metadata": {},
   "source": [
    "## Streaming\n",
    "BSDF support streamed wirting and reading of lists though the `ListStream` class."
   ]
  },
  {
   "cell_type": "code",
   "execution_count": 10,
   "metadata": {},
   "outputs": [
    {
     "data": {
      "text/plain": [
       "<bsdf.ListStream at 0x285e9398e80>"
      ]
     },
     "execution_count": 10,
     "metadata": {},
     "output_type": "execute_result"
    }
   ],
   "source": [
    "ls = bsdf.ListStream()\n",
    "ls"
   ]
  },
  {
   "cell_type": "markdown",
   "metadata": {},
   "source": [
    "The stream object is used as an element in a BSDF structure. It must be the very last element. In this case\n",
    "we simply use it as the root element."
   ]
  },
  {
   "cell_type": "code",
   "execution_count": 11,
   "metadata": {},
   "outputs": [
    {
     "data": {
      "text/plain": [
       "16"
      ]
     },
     "execution_count": 11,
     "metadata": {},
     "output_type": "execute_result"
    }
   ],
   "source": [
    "f = open(filename, 'wb')\n",
    "bsdf.save(f, ls)\n",
    "f.tell()  # only the BSDF header is written and the identifier for the streaming list"
   ]
  },
  {
   "cell_type": "markdown",
   "metadata": {},
   "source": [
    "Now we can write whatever we want (as long as its BSDF serializable)!"
   ]
  },
  {
   "cell_type": "code",
   "execution_count": 12,
   "metadata": {
    "collapsed": true
   },
   "outputs": [],
   "source": [
    "for i in range(4, 9):\n",
    "    ls.append('a' * i)\n",
    "for i in range(4, 9):\n",
    "    ls.append(i)\n",
    "ls.append('the list can of course contain anything')\n",
    "ls.append([False, None, 'the end'])"
   ]
  },
  {
   "cell_type": "markdown",
   "metadata": {},
   "source": [
    "That should be enough."
   ]
  },
  {
   "cell_type": "code",
   "execution_count": 13,
   "metadata": {
    "collapsed": true
   },
   "outputs": [],
   "source": [
    "f.close()\n",
    "# ls.append(3) This raises IOError; cannot write to a close file"
   ]
  },
  {
   "cell_type": "markdown",
   "metadata": {},
   "source": [
    "We can load the written data at once:"
   ]
  },
  {
   "cell_type": "code",
   "execution_count": 14,
   "metadata": {},
   "outputs": [
    {
     "data": {
      "text/plain": [
       "['aaaa',\n",
       " 'aaaaa',\n",
       " 'aaaaaa',\n",
       " 'aaaaaaa',\n",
       " 'aaaaaaaa',\n",
       " 4,\n",
       " 5,\n",
       " 6,\n",
       " 7,\n",
       " 8,\n",
       " 'the list can of course contain anything',\n",
       " [False, None, 'the end']]"
      ]
     },
     "execution_count": 14,
     "metadata": {},
     "output_type": "execute_result"
    }
   ],
   "source": [
    "bsdf.load(filename)"
   ]
  },
  {
   "cell_type": "markdown",
   "metadata": {},
   "source": [
    "Or we can load in streaming mode:"
   ]
  },
  {
   "cell_type": "code",
   "execution_count": 15,
   "metadata": {},
   "outputs": [
    {
     "data": {
      "text/plain": [
       "<bsdf.ListStream at 0x285e93bf3c8>"
      ]
     },
     "execution_count": 15,
     "metadata": {},
     "output_type": "execute_result"
    }
   ],
   "source": [
    "f = open(filename, 'rb')\n",
    "ls = bsdf.load(f, load_streaming=True)\n",
    "ls"
   ]
  },
  {
   "cell_type": "markdown",
   "metadata": {},
   "source": [
    "At this point, only the BSDF header and the list identifier have been read:"
   ]
  },
  {
   "cell_type": "code",
   "execution_count": 16,
   "metadata": {},
   "outputs": [
    {
     "data": {
      "text/plain": [
       "16"
      ]
     },
     "execution_count": 16,
     "metadata": {},
     "output_type": "execute_result"
    }
   ],
   "source": [
    "f.tell()"
   ]
  },
  {
   "cell_type": "markdown",
   "metadata": {},
   "source": [
    "Data is read on demand:"
   ]
  },
  {
   "cell_type": "code",
   "execution_count": 17,
   "metadata": {},
   "outputs": [
    {
     "name": "stdout",
     "output_type": "stream",
     "text": [
      "aaaa\n"
     ]
    },
    {
     "data": {
      "text/plain": [
       "22"
      ]
     },
     "execution_count": 17,
     "metadata": {},
     "output_type": "execute_result"
    }
   ],
   "source": [
    "print(ls.next())\n",
    "f.tell()"
   ]
  },
  {
   "cell_type": "code",
   "execution_count": 18,
   "metadata": {},
   "outputs": [
    {
     "name": "stdout",
     "output_type": "stream",
     "text": [
      "aaaaa\n",
      "aaaaaa\n",
      "aaaaaaa\n",
      "aaaaaaaa\n",
      "4\n",
      "5\n",
      "6\n",
      "7\n",
      "8\n",
      "the list can of course contain anything\n",
      "[False, None, 'the end']\n"
     ]
    }
   ],
   "source": [
    "for item in ls:\n",
    "    print(item)\n",
    "f.close()"
   ]
  },
  {
   "cell_type": "markdown",
   "metadata": {},
   "source": [
    "## Appending data to a stream\n",
    "Since the stream above is not closed, we can add data to it. The \"simple\" way is by appending bytes to the file, though this requires knowledge of the BSDF format."
   ]
  },
  {
   "cell_type": "code",
   "execution_count": 19,
   "metadata": {},
   "outputs": [
    {
     "data": {
      "text/plain": [
       "['aaaa',\n",
       " 'aaaaa',\n",
       " 'aaaaaa',\n",
       " 'aaaaaaa',\n",
       " 'aaaaaaaa',\n",
       " 4,\n",
       " 5,\n",
       " 6,\n",
       " 7,\n",
       " 8,\n",
       " 'the list can of course contain anything',\n",
       " [False, None, 'the end'],\n",
       " None,\n",
       " 42]"
      ]
     },
     "execution_count": 19,
     "metadata": {},
     "output_type": "execute_result"
    }
   ],
   "source": [
    "with open(filename, 'ab') as f:\n",
    "    f.write(b'v')  # None (void)\n",
    "    f.write(b'h*\\x00')  # The number 42\n",
    "bsdf.load(filename)"
   ]
  },
  {
   "cell_type": "markdown",
   "metadata": {},
   "source": [
    "But we can also use the BSDF API ..."
   ]
  },
  {
   "cell_type": "code",
   "execution_count": 20,
   "metadata": {
    "collapsed": true
   },
   "outputs": [],
   "source": [
    "with open(filename, 'r+b') as f:  # Note the r+ mode\n",
    "    ls = bsdf.load(f, load_streaming=True)\n",
    "    for i in ls:  # This looks funny, but we need to move to the end of the stream\n",
    "        pass\n",
    "    ls.append([3, 4, 5])\n",
    "    ls.append('that should be it')    "
   ]
  },
  {
   "cell_type": "code",
   "execution_count": 21,
   "metadata": {},
   "outputs": [
    {
     "data": {
      "text/plain": [
       "['aaaa',\n",
       " 'aaaaa',\n",
       " 'aaaaaa',\n",
       " 'aaaaaaa',\n",
       " 'aaaaaaaa',\n",
       " 4,\n",
       " 5,\n",
       " 6,\n",
       " 7,\n",
       " 8,\n",
       " 'the list can of course contain anything',\n",
       " [False, None, 'the end'],\n",
       " None,\n",
       " 42,\n",
       " [3, 4, 5],\n",
       " 'that should be it']"
      ]
     },
     "execution_count": 21,
     "metadata": {},
     "output_type": "execute_result"
    }
   ],
   "source": [
    "bsdf.load(filename)"
   ]
  },
  {
   "cell_type": "markdown",
   "metadata": {},
   "source": [
    "## Modifying binary blobs\n",
    "Start by writing a file that contains bytes. "
   ]
  },
  {
   "cell_type": "code",
   "execution_count": 22,
   "metadata": {
    "collapsed": true
   },
   "outputs": [],
   "source": [
    "bsdf.save(filename, [3, 4, b'xxyyzz'])"
   ]
  },
  {
   "cell_type": "markdown",
   "metadata": {},
   "source": [
    "Open in r+ mode to be able to modify the data."
   ]
  },
  {
   "cell_type": "code",
   "execution_count": 23,
   "metadata": {},
   "outputs": [
    {
     "name": "stdout",
     "output_type": "stream",
     "text": [
      "b'xx'\n"
     ]
    }
   ],
   "source": [
    "with open(filename, 'r+b') as f:\n",
    "    blob = bsdf.load(f, lazy_blob=True)[2]\n",
    "    blob.seek(0)  # we need to move to the start of the blob\n",
    "    print(blob.read(2))  # xx\n",
    "    # Change the last two bytes from zz to aa\n",
    "    blob.seek(4)\n",
    "    blob.write(b'aa')\n",
    "    # Update the checksum, in case there is one\n",
    "    blob.update_checksum()"
   ]
  },
  {
   "cell_type": "markdown",
   "metadata": {},
   "source": [
    "And check the data ..."
   ]
  },
  {
   "cell_type": "code",
   "execution_count": 24,
   "metadata": {},
   "outputs": [
    {
     "data": {
      "text/plain": [
       "[3, 4, b'xxyyaa']"
      ]
     },
     "execution_count": 24,
     "metadata": {},
     "output_type": "execute_result"
    }
   ],
   "source": [
    "bsdf.load(filename)"
   ]
  },
  {
   "cell_type": "code",
   "execution_count": null,
   "metadata": {
    "collapsed": true
   },
   "outputs": [],
   "source": []
  }
 ],
 "metadata": {
  "anaconda-cloud": {},
  "kernelspec": {
   "display_name": "Python [default]",
   "language": "python",
   "name": "python3"
  },
  "language_info": {
   "codemirror_mode": {
    "name": "ipython",
    "version": 3
   },
   "file_extension": ".py",
   "mimetype": "text/x-python",
   "name": "python",
   "nbconvert_exporter": "python",
   "pygments_lexer": "ipython3",
   "version": "3.6.1"
  }
 },
 "nbformat": 4,
 "nbformat_minor": 2
}
